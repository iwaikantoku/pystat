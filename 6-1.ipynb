{
 "cells": [
  {
   "cell_type": "code",
   "execution_count": 13,
   "metadata": {},
   "outputs": [
    {
     "data": {
      "text/plain": [
       "[<matplotlib.lines.Line2D at 0x1c15264320>]"
      ]
     },
     "execution_count": 13,
     "metadata": {},
     "output_type": "execute_result"
    },
    {
     "data": {
      "image/png": "[encoded data removed]",
      "text/plain": [
       "<Figure size 432x288 with 1 Axes>"
      ]
     },
     "metadata": {},
     "output_type": "display_data"
    }
   ],
   "source": [
    "# calc\n",
    "import numpy as np\n",
    "import pandas as pd\n",
    "import scipy as sp\n",
    "from scipy import stats\n",
    "\n",
    "# draw graph\n",
    "from matplotlib import pyplot as plt\n",
    "import seaborn as sns\n",
    "sns.set()\n",
    "\n",
    "# statistic model library\n",
    "import statsmodels.formula.api as smf\n",
    "import statsmodels.api as sm\n",
    "\n",
    "%precision 3\n",
    "\n",
    "%matplotlib inline\n",
    "\n",
    "# 1-9\n",
    "sp.stats.binom.pmf(k = 1, n = 2, p = 0.5)\n",
    "\n",
    "np.random.seed(1)\n",
    "sp.stats.binom.rvs(n = 10, p = 0.2, size = 5)\n",
    "\n",
    "# N=10, p=0.2\n",
    "binomial = sp.stats.binom(n  =10, p = 0.2)\n",
    "np.random.seed(1)\n",
    "rvs_binomial = binomial.rvs(size = 10000)\n",
    "m = np.arange(0, 10, 1)\n",
    "pmf_binomial = binomial.pmf(k = m)\n",
    "\n",
    "# sns.distplot(rvs_binomial, bins = m, kde = False,\n",
    "            # norm_hist = True, color = 'gray')\n",
    "# plt.plot(m, pmf_binomial, color = 'black')\n",
    "\n",
    "# 1-14\n",
    "sp.stats.poisson.pmf(k = 2, mu = 5)\n",
    "\n",
    "np.random.seed(1)\n",
    "sp.stats.poisson.rvs(mu = 2, size = 5)\n",
    "\n",
    "poisson = sp.stats.poisson(mu = 2)\n",
    "np.random.seed(1)\n",
    "rvs_poisson = poisson.rvs(size = 10000)\n",
    "pmf_poisson = poisson.pmf(k = m)\n",
    "\n",
    "#sns.distplot(rvs_poisson, bins = m, kde = False,\n",
    "            #norm_hist = True, color = 'gray')\n",
    "#plt.plot(m, pmf_poisson, color = 'black')\n",
    "\n",
    "N  = 100000000\n",
    "p = 0.00000002\n",
    "binomial_2 = sp.stats.binom(n = N, p = p)\n",
    "\n",
    "pmf_binomial_2 = binomial_2.pmf(k = m)\n",
    "\n",
    "plt.plot(m, pmf_poisson, color = 'gray')\n",
    "plt.plot(m, pmf_binomial_2, color = 'black',\n",
    "        linestyle = 'dotted')"
   ]
  },
  {
   "cell_type": "code",
   "execution_count": null,
   "metadata": {},
   "outputs": [],
   "source": []
  }
 ],
 "metadata": {
  "kernelspec": {
   "display_name": "Python 3",
   "language": "python",
   "name": "python3"
  },
  "language_info": {
   "codemirror_mode": {
    "name": "ipython",
    "version": 3
   },
   "file_extension": ".py",
   "mimetype": "text/x-python",
   "name": "python",
   "nbconvert_exporter": "python",
   "pygments_lexer": "ipython3",
   "version": "3.6.5"
  }
 },
 "nbformat": 4,
 "nbformat_minor": 2
}
