{
 "cells": [
  {
   "cell_type": "code",
   "execution_count": 9,
   "metadata": {},
   "outputs": [
    {
     "data": {
      "text/plain": [
       "1.079045054586893"
      ]
     },
     "execution_count": 9,
     "metadata": {},
     "output_type": "execute_result"
    }
   ],
   "source": [
    "# 数値計算に使うライブラリ\n",
    "import numpy as np\n",
    "import pandas as pd\n",
    "import scipy as sp\n",
    "from scipy import stats\n",
    "# グラフを描画するライブラリ\n",
    "from matplotlib import pyplot as plt\n",
    "import seaborn as sns\n",
    "sns.set()\n",
    "# 統計モデルを推定するライブラリ\n",
    "import statsmodels.formula.api as smf\n",
    "import statsmodels.api as sm\n",
    "# 表示桁数の指定\n",
    "%precision 3\n",
    "# グラフをjupyter Notebook内に表示させるための指定\n",
    "%matplotlib inline\n",
    "\n",
    "# 5-4\n",
    "beer = pd.read_csv(\"6-5-1-poisson-regression.csv\")\n",
    "# print(beer.head(3))\n",
    "\n",
    "# 5-5\n",
    "mod_pois = smf.glm(\"beer_number ~ temperature\", beer,\n",
    "               family = sm.families.Poisson()).fit()\n",
    "# mod_pois.summary()\n",
    "\n",
    "# 5-6\n",
    "mod_pois_null = smf.glm(\n",
    "    \"beer_number ~ 1\", data = beer,\n",
    "    family = sm.families.Poisson()).fit()\n",
    "\n",
    "# print(\"Nullモデル :\", mod_pois_null.aic.round(3))\n",
    "# print(\"変数入りモデル :\", mod_pois.aic.round(3))\n",
    "\n",
    "# 5-7\n",
    "# 予測値の作成\n",
    "x_plot = np.arange(0, 37)\n",
    "pred = mod_pois.predict(\n",
    "    pd.DataFrame({\"temperature\" : x_plot}))\n",
    "# 回帰直線を入れないlmplot\n",
    "# sns.lmplot(y = \"beer_number\", x = \"temperature\",\n",
    "          # data = beer, fit_reg = False,\n",
    "          # scatter_kws = {\"color\" : \"black\"})\n",
    "# 回帰曲線を上書き\n",
    "# plt.plot(x_plot, pred, color=\"black\")\n",
    "\n",
    "# 5-8\n",
    "# 気温が1℃の時の販売個数の期待値\n",
    "exp_val_1 = pd.DataFrame({\"temperature\" : [1]})\n",
    "pred_1 = mod_pois.predict(exp_val_1)\n",
    "# 気温が2℃の時の販売個数の期待値\n",
    "exp_val_2 = pd.DataFrame({\"temperature\" : [2]})\n",
    "pred_2 = mod_pois.predict(exp_val_2)\n",
    "\n",
    "# 気温が1℃上がると，販売個数は何倍になるか\n",
    "# pred_2 / pred_1\n",
    "sp.exp(mod_pois.params[\"temperature\"])"
   ]
  },
  {
   "cell_type": "code",
   "execution_count": null,
   "metadata": {},
   "outputs": [],
   "source": []
  }
 ],
 "metadata": {
  "kernelspec": {
   "display_name": "Python 3",
   "language": "python",
   "name": "python3"
  },
  "language_info": {
   "codemirror_mode": {
    "name": "ipython",
    "version": 3
   },
   "file_extension": ".py",
   "mimetype": "text/x-python",
   "name": "python",
   "nbconvert_exporter": "python",
   "pygments_lexer": "ipython3",
   "version": "3.6.6"
  }
 },
 "nbformat": 4,
 "nbformat_minor": 2
}
