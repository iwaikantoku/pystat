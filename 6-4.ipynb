{
 "cells": [
  {
   "cell_type": "code",
   "execution_count": 3,
   "metadata": {},
   "outputs": [
    {
     "data": {
      "text/plain": [
       "68.02788118117269"
      ]
     },
     "execution_count": 3,
     "metadata": {},
     "output_type": "execute_result"
    }
   ],
   "source": [
    "# 数値計算に使うライブラリ\n",
    "import numpy as np\n",
    "import pandas as pd\n",
    "import scipy as sp\n",
    "from scipy import stats\n",
    "# グラフを描画するライブラリ\n",
    "from matplotlib import pyplot as plt\n",
    "import seaborn as sns\n",
    "sns.set()\n",
    "# 統計モデルを推定するライブラリ\n",
    "import statsmodels.formula.api as smf\n",
    "import statsmodels.api as sm\n",
    "# 表示桁数の指定\n",
    "%precision 3\n",
    "# グラフをjupyter Notebook内に表示させるための指定\n",
    "%matplotlib inline\n",
    "\n",
    "# 4-1\n",
    "# データの読み込み\n",
    "test_result = pd.read_csv(\"6-3-1-logistic-regression.csv\")\n",
    "# モデル化\n",
    "mod_glm = smf.glm(\"result ~ hours\", data = test_result,\n",
    "                 family = sm.families.Binomial()).fit()\n",
    "# 4-4\n",
    "# 予測された成功確率\n",
    "pred = mod_glm.predict()\n",
    "# 応答変数\n",
    "y = test_result.result\n",
    "# ピアソン残渣\n",
    "peason_resid = (y - pred) / sp.sqrt(pred * (1 - pred))\n",
    "# peason_resid.head(3)\n",
    "# mod_glm.resid_pearson.head(3)\n",
    "# sp.sum(mod_glm.resid_pearson**2)\n",
    "# mod_glm.pearson_chi2\n",
    "\n",
    "# 4-9\n",
    "# 予測された成功確率\n",
    "pred = mod_glm.predict()\n",
    "# 応答変数\n",
    "y = test_result.result\n",
    "# 合否を完全に予測できた時の対数尤度との差異\n",
    "resid_tmp = 0 - sp.log(\n",
    "    sp.stats.binom.pmf(k = y, n = 1, p = pred))\n",
    "# deviance残渣\n",
    "deviance_resid = sp.sqrt(\n",
    "    2 * resid_tmp\n",
    ") * np.sign(y - pred)\n",
    "# 結果の確認\n",
    "# deviance_resid.head(3)\n",
    "# mod_glm.resid_deviance.head(3)\n",
    "# sp.sum(mod_glm.resid_deviance ** 2)"
   ]
  },
  {
   "cell_type": "code",
   "execution_count": null,
   "metadata": {},
   "outputs": [],
   "source": []
  }
 ],
 "metadata": {
  "kernelspec": {
   "display_name": "Python 3",
   "language": "python",
   "name": "python3"
  },
  "language_info": {
   "codemirror_mode": {
    "name": "ipython",
    "version": 3
   },
   "file_extension": ".py",
   "mimetype": "text/x-python",
   "name": "python",
   "nbconvert_exporter": "python",
   "pygments_lexer": "ipython3",
   "version": "3.6.6"
  }
 },
 "nbformat": 4,
 "nbformat_minor": 2
}
